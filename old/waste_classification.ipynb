{
 "cells": [
  {
   "cell_type": "markdown",
   "metadata": {
    "collapsed": true,
    "pycharm": {
     "name": "#%% md\n"
    }
   },
   "source": [
    "#Loading data in dataframe"
   ]
  },
  {
   "cell_type": "code",
   "execution_count": null,
   "metadata": {
    "pycharm": {
     "name": "#%%\n"
    }
   },
   "outputs": [],
   "source": [
    "import os\n",
    "import pandas as pd\n",
    "import imagesize\n",
    "import seaborn as sns\n",
    "from sklearn.model_selection import train_test_split\n",
    "import torch\n",
    "from PIL import Image\n",
    "from sklearn.preprocessing import LabelEncoder"
   ]
  },
  {
   "cell_type": "code",
   "execution_count": null,
   "metadata": {
    "pycharm": {
     "name": "#%%\n"
    }
   },
   "outputs": [],
   "source": [
    "from PIL.ImageFile import ImageFile\n",
    "\n",
    "filename = \"_eval\""
   ]
  },
  {
   "cell_type": "code",
   "execution_count": null,
   "metadata": {
    "pycharm": {
     "name": "#%%\n"
    }
   },
   "outputs": [],
   "source": [
    "use_our_images = 0\n",
    "our_images_path = \"\"\n",
    "online_data_path = \"\"\n",
    "eval_data_path = \"\"\n",
    "data_path = eval_data_path\n",
    "\n",
    "image = []\n",
    "labels = []\n",
    "width = []\n",
    "height = []\n",
    "\n",
    "for file in os.listdir(data_path):\n",
    "    if file == 'glas':\n",
    "        for c in os.listdir(os.path.join(data_path, file)):\n",
    "            image.append(c)\n",
    "            labels.append('glass')\n",
    "            w, h = imagesize.get(data_path + \"/\" + file + \"/\" + c)\n",
    "            width.append(w), height.append(h)\n",
    "    if file == 'organic':\n",
    "        for c in os.listdir(os.path.join(data_path, file)):\n",
    "            image.append(c)\n",
    "            labels.append('organic')\n",
    "            w, h = imagesize.get(data_path + \"/\" + file + \"/\" + c)\n",
    "            width.append(w), height.append(h)\n",
    "    if file == 'paper':\n",
    "        for c in os.listdir(os.path.join(data_path, file)):\n",
    "            image.append(c)\n",
    "            labels.append('paper')\n",
    "            w, h = imagesize.get(data_path + \"/\" + file + \"/\" + c)\n",
    "            width.append(w), height.append(h)\n",
    "    if file == 'restmuell':\n",
    "        for c in os.listdir(os.path.join(data_path, file)):\n",
    "            image.append(c)\n",
    "            labels.append('residual waste')\n",
    "            w, h = imagesize.get(data_path + \"/\" + file + \"/\" + c)\n",
    "            width.append(w), height.append(h)\n",
    "    if file == 'wertstoff':\n",
    "        for c in os.listdir(os.path.join(data_path, file)):\n",
    "            image.append(c)\n",
    "            labels.append('recyclable')\n",
    "            w, h = imagesize.get(data_path + \"/\" + file + \"/\" + c)\n",
    "            width.append(w), height.append(h)\n",
    "\n",
    "data = {'Images': image, 'labels': labels, 'width': width, 'height': height}\n",
    "data = pd.DataFrame(data)\n",
    "lb = LabelEncoder()\n",
    "data['encoded_labels'] = lb.fit_transform(data['labels'])"
   ]
  },
  {
   "cell_type": "code",
   "execution_count": null,
   "metadata": {
    "pycharm": {
     "name": "#%%\n"
    }
   },
   "outputs": [],
   "source": [
    "data"
   ]
  },
  {
   "cell_type": "code",
   "execution_count": null,
   "metadata": {
    "pycharm": {
     "name": "#%%\n"
    }
   },
   "outputs": [],
   "source": [
    "print(f'count paper: {data[data[\"labels\"] == \"paper\"].shape[0]}')\n",
    "print(f'count organic: {data[data[\"labels\"] == \"organic\"].shape[0]}')\n",
    "print(f'count restmuell: {data[data[\"labels\"] == \"restmuell\"].shape[0]}')\n",
    "print(f'count wertstoff: {data[data[\"labels\"] == \"wertstoff\"].shape[0]}')\n",
    "print(f'count glas: {data[data[\"labels\"] == \"glas\"].shape[0]}')"
   ]
  },
  {
   "cell_type": "code",
   "execution_count": null,
   "metadata": {
    "pycharm": {
     "name": "#%%\n"
    }
   },
   "outputs": [],
   "source": [
    "from matplotlib import pyplot as plt\n",
    "\n",
    "sns.countplot(x = labels)\n",
    "plt.yticks(size=20)\n",
    "plt.xticks(size=20)\n",
    "plt.savefig('plots/images_per_class' + filename + '.png', dpi=300)\n",
    "plt.savefig('plots/images_per_class' + filename + '.svg', dpi=300)\n",
    "plt.savefig('plots/images_per_class' + filename + '.pdf', dpi=300)"
   ]
  },
  {
   "cell_type": "code",
   "execution_count": null,
   "metadata": {
    "pycharm": {
     "name": "#%%\n"
    }
   },
   "outputs": [],
   "source": [
    "sns.set(rc={'figure.figsize':(20,12)})\n",
    "boxplot = sns.boxplot(x=labels, y=width)\n",
    "boxplot.axes.set_title(\"Width of images\", fontsize=20)\n",
    "boxplot.set_xlabel(\"Waste-class\", fontsize=20)\n",
    "boxplot.set_ylabel(\"Width\", fontsize=20)\n",
    "plt.yticks(size=18)\n",
    "plt.xticks(size=18)\n",
    "boxplot\n",
    "\n",
    "plt.savefig('plots/width_per_class' + filename + '.png', dpi=300)\n",
    "plt.savefig('plots/width_per_class' + filename + '.svg', dpi=300)\n",
    "plt.savefig('plots/width_per_class' + filename + '.pdf', dpi=300)"
   ]
  },
  {
   "cell_type": "code",
   "execution_count": null,
   "metadata": {
    "pycharm": {
     "name": "#%%\n"
    }
   },
   "outputs": [],
   "source": [
    "boxplot = sns.boxplot(x=labels, y=height)\n",
    "boxplot.axes.set_title(\"Height of images\", fontsize=20)\n",
    "boxplot.set_xlabel(\"Waste-class\", fontsize=20)\n",
    "boxplot.set_ylabel(\"Height\", fontsize=20)\n",
    "plt.yticks(size=18)\n",
    "plt.xticks(size=18)\n",
    "boxplot\n",
    "\n",
    "plt.savefig('plots/height_per_class' + filename + '.png', dpi=300)\n",
    "plt.savefig('plots/height_per_class' + filename + '.svg', dpi=300)\n",
    "plt.savefig('plots/height_per_class' + filename + '.pdf', dpi=300)"
   ]
  },
  {
   "cell_type": "code",
   "execution_count": null,
   "metadata": {
    "pycharm": {
     "name": "#%%\n"
    }
   },
   "outputs": [],
   "source": [
    "#data.drop(data[data.width > 4200].index, inplace=True)\n",
    "sns.displot(data, x=\"width\", hue='labels', aspect=3, height=10, element=\"poly\")\n",
    "\n",
    "plt.savefig('plots/poly_width_per_class' + filename + '.png', dpi=300)\n",
    "plt.savefig('plots/poly_width_per_class' + filename + '.svg', dpi=300)\n",
    "plt.savefig('plots/poly_width_per_class' + filename + '.pdf', dpi=300)"
   ]
  },
  {
   "cell_type": "code",
   "execution_count": null,
   "metadata": {
    "pycharm": {
     "name": "#%%\n"
    }
   },
   "outputs": [],
   "source": [
    "#data.drop(data[data.height > 4200].index, inplace=True)\n",
    "sns.displot(data, x=\"height\", hue='labels', aspect=3, height=10, element=\"poly\")\n",
    "plt.savefig('plots/poly_height_per_class' + filename + '.png', dpi=300)\n",
    "plt.savefig('plots/poly_height_per_class' + filename + '.svg', dpi=300)\n",
    "plt.savefig('plots/poly_height_per_class' + filename + '.pdf', dpi=300)"
   ]
  },
  {
   "cell_type": "code",
   "execution_count": null,
   "metadata": {
    "pycharm": {
     "name": "#%%\n"
    }
   },
   "outputs": [],
   "source": [
    "data.shape"
   ]
  }
 ],
 "metadata": {
  "kernelspec": {
   "display_name": "Python 3 (ipykernel)",
   "language": "python",
   "name": "python3"
  },
  "language_info": {
   "codemirror_mode": {
    "name": "ipython",
    "version": 3
   },
   "file_extension": ".py",
   "mimetype": "text/x-python",
   "name": "python",
   "nbconvert_exporter": "python",
   "pygments_lexer": "ipython3",
   "version": "3.9.7"
  }
 },
 "nbformat": 4,
 "nbformat_minor": 1
}